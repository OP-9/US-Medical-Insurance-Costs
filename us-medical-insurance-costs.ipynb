{
 "cells": [
  {
   "cell_type": "markdown",
   "metadata": {},
   "source": [
    "# U.S. Medical Insurance Costs"
   ]
  },
  {
   "cell_type": "markdown",
   "metadata": {},
   "source": [
    "## Goals of Project\n",
    "### Analyze Data:\n",
    "    1. Determine sample size (male v female)\n",
    "    2. Average age to each gender\n",
    "    3. Smoking's impact on price\n",
    "    4. Determine if regional impact exists\n",
    "    5. Children's impact on price\n",
    "    6. BMI's impact on price"
   ]
  },
  {
   "cell_type": "code",
   "execution_count": 25,
   "metadata": {},
   "outputs": [],
   "source": [
    "import pandas as pd\n",
    "data_frame = pd.read_csv(\"insurance.csv\")\n",
    "\n",
    "\n",
    "insurance_costs_list = list(data_frame[\"charges\"])\n",
    "total_cost = 0; counter = 0;\n",
    "for costs in data_frame[\"charges\"]:\n",
    "    total_cost += costs\n",
    "    counter +=1\n",
    "average = total_cost/counter\n",
    "\n",
    "counter_s=0; sum_s = 0; sum_ns=0; counter_ns=0; i =0;\n",
    "charges_list = list(data_frame[\"charges\"])\n",
    "for row in data_frame[\"smoker\"]:\n",
    "    if row ==\"yes\":\n",
    "        sum_s += charges_list[i]\n",
    "        counter_s +=1\n",
    "    else:\n",
    "        sum_ns +=charges_list[i]\n",
    "        counter_ns+=1\n",
    "    i+=1\n",
    "smoker_nonsmoker = {\"Smoker Average Cost\" : sum_s/counter_s, \"Non-Smoker Average Cost\": sum_ns/counter_ns}\n",
    "\n",
    "\n",
    " #determining sample sizes on sex\n",
    "male=0; female=0;\n",
    "for row in data_frame[\"sex\"]:\n",
    "    if row ==\"female\":\n",
    "        female+=1\n",
    "    else:\n",
    "        male+=1\n",
    "male_female = {\"Male\": male, \"Female\": female}\n",
    "        "
   ]
  },
  {
   "cell_type": "markdown",
   "metadata": {},
   "source": [
    "#### Initialising all variables"
   ]
  },
  {
   "cell_type": "code",
   "execution_count": 3,
   "metadata": {},
   "outputs": [],
   "source": [
    "import csv\n",
    "insurance_data={}\n",
    "male_v_female ={}\n",
    "male = 0\n",
    "female = 0\n",
    "sex=0\n",
    "i=0\n",
    "ages_list=[]\n",
    "ages_dict={}\n",
    "avg_age = {}\n",
    "sexes_list = []\n",
    "sexes_dict={}\n",
    "smokers_list=[]\n",
    "smokers_dict={}\n",
    "bmi=[]\n",
    "children=[]\n",
    "region=[]\n",
    "charges=[]\n",
    "counter = 0"
   ]
  },
  {
   "cell_type": "code",
   "execution_count": 4,
   "metadata": {},
   "outputs": [],
   "source": [
    "with open(\"insurance.csv\", newline=\"\") as insurance_datasheet:\n",
    "    insurance_data = csv.DictReader(insurance_datasheet)\n",
    "    \n",
    "    for row in insurance_data:\n",
    "        ages_list.append(int(row[\"age\"]))\n",
    "        ages_dict[i] = int(row[\"age\"])\n",
    "        sexes_list.append(row[\"sex\"])\n",
    "        sexes_dict[i] = row[\"sex\"]\n",
    "        smokers_list.append(row[\"smoker\"])\n",
    "        smokers_dict[i] = row[\"smoker\"]\n",
    "        bmi.append(row[\"bmi\"])\n",
    "        children.append(int(row[\"children\"]))\n",
    "        region.append(row[\"region\"])\n",
    "        charges.append(float(row[\"charges\"]))\n",
    "        i+=1"
   ]
  },
  {
   "cell_type": "markdown",
   "metadata": {},
   "source": [
    "#### Determining Smoking's Impact on Insurance Charges"
   ]
  },
  {
   "cell_type": "code",
   "execution_count": 22,
   "metadata": {},
   "outputs": [],
   "source": [
    "def smoker_comparision_charges():\n",
    "    entry=0; smoker =0; non_smoker = 0; counter =0;total_charges_smoker=0; total_charges_non_smoker=0\n",
    "    for entry in smokers_list:\n",
    "        if entry == \"yes\":\n",
    "            smoker +=1\n",
    "            total_charges_smoker += charges[counter]\n",
    "            counter+=1\n",
    "        elif entry ==\"no\":\n",
    "            non_smoker +=1\n",
    "            total_charges_non_smoker += charges[counter]\n",
    "            counter+=1\n",
    "    avg_charges_smoker = total_charges_smoker/smoker\n",
    "    avg_charges_non_smoker = total_charges_non_smoker/non_smoker\n",
    "    print (f\"\"\"The number of smokers are {smoker} and the number of non-smokers are {non_smoker}. \n",
    "    \\nThe average insurance charges for a smoker is {round(avg_charges_smoker,2)} \n",
    "and for a non-smoker is {round(avg_charges_non_smoker, 2)}\"\"\")\n",
    "\n"
   ]
  },
  {
   "cell_type": "code",
   "execution_count": 6,
   "metadata": {},
   "outputs": [],
   "source": [
    "def sample_size_for_sexes():\n",
    "    male=0\n",
    "    female=0\n",
    "    \n",
    "    for sex in sexes_list:\n",
    "        if sex  == \"male\":\n",
    "            male +=1\n",
    "            male_v_female[\"Male\"] = male\n",
    "        elif sex == \"female\":\n",
    "            female +=1\n",
    "            male_v_female[\"Female\"] = female\n",
    "            \n",
    "    print(male_v_female)"
   ]
  },
  {
   "cell_type": "markdown",
   "metadata": {},
   "source": [
    "#### Average Age for each Sex"
   ]
  },
  {
   "cell_type": "code",
   "execution_count": 7,
   "metadata": {},
   "outputs": [],
   "source": [
    "def average_age_for_sexes():\n",
    "    male=0\n",
    "    female=0; total_age_female =0; total_age_male=0; average_age_male = 0; average_age_female = 0\n",
    "    for sex in sexes_dict:\n",
    "        if sexes_dict[sex] == \"female\":\n",
    "            total_age_female += ages_dict[sex]\n",
    "            female += 1\n",
    "        elif sexes_dict[sex] ==\"male\":\n",
    "            total_age_male += ages_dict[sex]\n",
    "            male +=1\n",
    "            \n",
    "    average_age_male = total_age_male/ male\n",
    "    average_age_female = total_age_female/ female\n",
    "    average_age = (total_age_male+total_age_female)/(male+female)\n",
    "    \n",
    "    print(f\"\"\"The average male age in this sample is {round(average_age_male, 2)} \n",
    "    \\nThe average female age is {round(average_age_female, 2)}\n",
    "    \\nThe average age is {round(average_age, 2)}\"\"\")\n",
    "    \n",
    "\n"
   ]
  },
  {
   "cell_type": "markdown",
   "metadata": {},
   "source": [
    "#### Insurance Prices based on Region"
   ]
  },
  {
   "cell_type": "code",
   "execution_count": 8,
   "metadata": {},
   "outputs": [],
   "source": [
    "\n",
    "def region_charges_comparison():\n",
    "    southwest = 0; southwest_charges = 0; southeast=0; southeast_charges = 0; northwest=0; northwest_charges=0; \n",
    "    northeast =0; northeast_charges =0; unassigned =0; unassigned_charges =0; avg_charges_by_region ={}\n",
    "    \n",
    "    for place in region:\n",
    "        if place == \"southwest\":\n",
    "            southwest +=1\n",
    "            southwest_charges += charges[counter]\n",
    "        elif place == \"southeast\":\n",
    "            southeast +=1\n",
    "            southeast_charges += charges[counter]\n",
    "        elif place == \"northwest\":\n",
    "            northwest +=1\n",
    "            northwest_charges += charges[counter]\n",
    "        elif place == \"northeast\":\n",
    "            northeast +=1\n",
    "            northeast_charges = charges[counter]\n",
    "        else:\n",
    "            unassigned +=1\n",
    "            unassigned_charges += charges[counter]\n",
    "        counter +=1\n",
    "            \n",
    "    avg_charges_by_region[\"Southwest\"]= southwest_charges/southwest\n",
    "    avg_charges_by_region[\"Southeast\"]= southeast_charges/southeast\n",
    "    avg_charges_by_region[\"Northwest\"]= northwest_charges/northwest\n",
    "    avg_charges_by_region[\"Northeast\"]= northeast_charges/northeast\n",
    "    \n",
    "    return avg_charges_by_region"
   ]
  },
  {
   "cell_type": "markdown",
   "metadata": {},
   "source": [
    "#### Insurance Charges based on Patient's Number of Children "
   ]
  },
  {
   "cell_type": "code",
   "execution_count": 24,
   "metadata": {},
   "outputs": [],
   "source": [
    "def children_charges_comparision():\n",
    "    counter = -1\n",
    "    no_children = 0\n",
    "    total_cost_no_children = 0\n",
    "    avg_cost_no_children = 0\n",
    "    one_child = 0\n",
    "    avg_cost_one_child = 0\n",
    "    total_cost_one_child = 0\n",
    "    two_children = 0\n",
    "    avg_cost_two_children = 0\n",
    "    total_cost_two_children = 0\n",
    "    three_children = 0\n",
    "    total_cost_three_children = 0\n",
    "    avg_cost_three_children = 0\n",
    "    more_than_three_children = 0\n",
    "    total_cost_more_than_three_children = 0\n",
    "    avg_cost_more_than_three_children = 0\n",
    "    insurance_charges_children_list = []\n",
    "\n",
    "    for child in children:\n",
    "        counter += 1\n",
    "        if child == 0:\n",
    "            no_children += 1\n",
    "            total_cost_no_children += charges[counter]\n",
    "            avg_cost_no_children = total_cost_no_children / no_children\n",
    "\n",
    "        elif child == 1:\n",
    "            one_child += 1\n",
    "            total_cost_one_child += charges[counter]\n",
    "            avg_cost_one_child = total_cost_one_child / one_child\n",
    "\n",
    "        elif child == 2:\n",
    "            two_children += 1\n",
    "            total_cost_two_children += charges[counter]\n",
    "            avg_cost_two_children = total_cost_two_children / two_children\n",
    "\n",
    "        elif child == 3:\n",
    "            three_children += 1\n",
    "            total_cost_three_children += charges[counter]\n",
    "            avg_cost_three_children = total_cost_three_children / three_children\n",
    "\n",
    "        else:\n",
    "            more_than_three_children += 1\n",
    "            total_cost_more_than_three_children += charges[counter]\n",
    "            avg_cost_more_than_three_children = total_cost_more_than_three_children / more_than_three_children\n",
    "\n",
    "    insurance_charges_children_list.append(\n",
    "        f\"The average insurance cost for a person with no children is: {round(avg_cost_no_children, 2)}\")\n",
    "    insurance_charges_children_list.append(\n",
    "        f\"The average insurance cost for a person with one child is: {round(avg_cost_one_child, 2)}\")\n",
    "    insurance_charges_children_list.append(\n",
    "        f\"The average insurance cost for a person with two children is: {round(avg_cost_two_children, 2)}\")\n",
    "    insurance_charges_children_list.append(\n",
    "        f\"The average insurance cost for a person with three children is: {round(avg_cost_three_children, 2)}\")\n",
    "    insurance_charges_children_list.append(\n",
    "        f\"The average insurance cost for a person with more than three children is: {round(avg_cost_more_than_three_children, 2)}\")\n",
    "\n",
    "    return insurance_charges_children_list\n",
    "\n"
   ]
  },
  {
   "cell_type": "code",
   "execution_count": 10,
   "metadata": {},
   "outputs": [],
   "source": [
    "def patient_information():\n",
    "    #document age, smoker status, location, children, charges\n",
    "    patient_info = {}\n",
    "    for entry in range(0, len(charges)):\n",
    "        patient_info[entry] = ([\"Age: \", ages_list[entry], [\"Smoker: \", smokers_list[entry]], [\"Location: \", region[entry]], [\"Number of Children: \", children[entry]], [\"Charges: \", charges[entry]]]) \n",
    "    \n",
    "    return patient_info"
   ]
  },
  {
   "cell_type": "code",
   "execution_count": null,
   "metadata": {},
   "outputs": [],
   "source": []
  }
 ],
 "metadata": {
  "kernelspec": {
   "display_name": "Python 3 (ipykernel)",
   "language": "python",
   "name": "python3"
  },
  "language_info": {
   "codemirror_mode": {
    "name": "ipython",
    "version": 3
   },
   "file_extension": ".py",
   "mimetype": "text/x-python",
   "name": "python",
   "nbconvert_exporter": "python",
   "pygments_lexer": "ipython3",
   "version": "3.11.7"
  }
 },
 "nbformat": 4,
 "nbformat_minor": 4
}
